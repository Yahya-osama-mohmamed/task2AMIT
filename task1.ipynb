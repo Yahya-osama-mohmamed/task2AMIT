{
  "nbformat": 4,
  "nbformat_minor": 0,
  "metadata": {
    "colab": {
      "provenance": []
    },
    "kernelspec": {
      "name": "python3",
      "display_name": "Python 3"
    },
    "language_info": {
      "name": "python"
    }
  },
  "cells": [
    {
      "cell_type": "code",
      "execution_count": 3,
      "metadata": {
        "colab": {
          "base_uri": "https://localhost:8080/"
        },
        "id": "UL-WsxbTp8Ft",
        "outputId": "a8bd5425-d1d5-4bd0-94db-7b4ec7406c7d"
      },
      "outputs": [
        {
          "output_type": "stream",
          "name": "stdout",
          "text": [
            "enter G6.67*10^-11\n",
            "enter first mass4\n",
            "enter second mass4\n",
            "enter the distance4\n",
            "The gravitational force is 6.67e-11\n"
          ]
        }
      ],
      "source": [
        "import math\n",
        "\n",
        "def conv_float (number):\n",
        "\n",
        "  num_FLOAT=[]\n",
        "  num_POWER=[]\n",
        "\n",
        "\n",
        "  try:\n",
        "    num_FLOAT= number.split(\"*\")\n",
        "    num_POWER=num_FLOAT[1].split(\"^\")\n",
        "    return float(num_FLOAT[0])*(float(num_POWER[0])**float(num_POWER[1]))\n",
        "  except:\n",
        "    return float (number)\n",
        "\n",
        "G= conv_float(input(\"enter G\"))\n",
        "M1=conv_float(input(\"enter first mass\"))\n",
        "M2=conv_float(input(\"enter second mass\"))\n",
        "R=conv_float(input(\"enter the distance\"))\n",
        "\n",
        "print (\"The gravitational force is\",G*M1*M2*(1/R**2))"
      ]
    },
    {
      "cell_type": "code",
      "source": [
        "for i in range (1,101):\n",
        "  if (i%3 == 0) & (i%5==0):\n",
        "    print(\"fizz buzz\")\n",
        "    continue\n",
        "  if i%3 ==0:\n",
        "    print(\"fizz\")\n",
        "    continue\n",
        "\n",
        "  if i%5 ==0:\n",
        "    print(\"buzz\")\n",
        "    continue\n",
        "\n",
        "  print(i)"
      ],
      "metadata": {
        "colab": {
          "base_uri": "https://localhost:8080/"
        },
        "id": "_0VuvFV_vsXh",
        "outputId": "37a971f5-9cba-4490-8342-eb631534087c"
      },
      "execution_count": 4,
      "outputs": [
        {
          "output_type": "stream",
          "name": "stdout",
          "text": [
            "1\n",
            "2\n",
            "fizz\n",
            "4\n",
            "buzz\n",
            "fizz\n",
            "7\n",
            "8\n",
            "fizz\n",
            "buzz\n",
            "11\n",
            "fizz\n",
            "13\n",
            "14\n",
            "fizz buzz\n",
            "16\n",
            "17\n",
            "fizz\n",
            "19\n",
            "buzz\n",
            "fizz\n",
            "22\n",
            "23\n",
            "fizz\n",
            "buzz\n",
            "26\n",
            "fizz\n",
            "28\n",
            "29\n",
            "fizz buzz\n",
            "31\n",
            "32\n",
            "fizz\n",
            "34\n",
            "buzz\n",
            "fizz\n",
            "37\n",
            "38\n",
            "fizz\n",
            "buzz\n",
            "41\n",
            "fizz\n",
            "43\n",
            "44\n",
            "fizz buzz\n",
            "46\n",
            "47\n",
            "fizz\n",
            "49\n",
            "buzz\n",
            "fizz\n",
            "52\n",
            "53\n",
            "fizz\n",
            "buzz\n",
            "56\n",
            "fizz\n",
            "58\n",
            "59\n",
            "fizz buzz\n",
            "61\n",
            "62\n",
            "fizz\n",
            "64\n",
            "buzz\n",
            "fizz\n",
            "67\n",
            "68\n",
            "fizz\n",
            "buzz\n",
            "71\n",
            "fizz\n",
            "73\n",
            "74\n",
            "fizz buzz\n",
            "76\n",
            "77\n",
            "fizz\n",
            "79\n",
            "buzz\n",
            "fizz\n",
            "82\n",
            "83\n",
            "fizz\n",
            "buzz\n",
            "86\n",
            "fizz\n",
            "88\n",
            "89\n",
            "fizz buzz\n",
            "91\n",
            "92\n",
            "fizz\n",
            "94\n",
            "buzz\n",
            "fizz\n",
            "97\n",
            "98\n",
            "fizz\n",
            "buzz\n"
          ]
        }
      ]
    }
  ]
}