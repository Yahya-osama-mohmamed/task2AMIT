{
  "nbformat": 4,
  "nbformat_minor": 0,
  "metadata": {
    "colab": {
      "provenance": []
    },
    "kernelspec": {
      "name": "python3",
      "display_name": "Python 3"
    },
    "language_info": {
      "name": "python"
    }
  },
  "cells": [
    {
      "cell_type": "code",
      "execution_count": 5,
      "metadata": {
        "id": "vQUvECmYmsgc"
      },
      "outputs": [],
      "source": [
        "def add (x,y):\n",
        "  print (x+y)\n",
        "def sub (x,y):\n",
        "  print (x-y)\n",
        "def mult (x,y):\n",
        "  print( x*y)\n",
        "def div (x,y):\n",
        "  print (x/y)\n",
        "\n",
        "\n",
        "def fac (x):\n",
        "\n",
        "    if x== 0 or x== 1 :\n",
        "      return(1)\n",
        "    else:\n",
        "     return( x*fac(x-1),\"\\n\")\n",
        "\n",
        "\n",
        "def fib (n_terms):\n",
        "  n1,n2 = 0,1\n",
        "  if n_terms <= 0 :\n",
        "    print (\"please insert a positive integer\")\n",
        "  elif n_terms == 1 :\n",
        "    print (n1)\n",
        "\n",
        "  else:\n",
        "    while (i<n_terms):\n",
        "      print (n1)\n",
        "      nth = n1+n2\n",
        "      n1=n2\n",
        "      n2=nth\n",
        "\n",
        "      i+=1\n",
        "\n",
        "\n",
        "def even_odd (x):\n",
        "  if x%2 == 0:\n",
        "    print (\"even\")\n",
        "  else:\n",
        "    print (\"odd\")\n",
        "\n",
        "\n",
        "\n",
        "\n",
        "\n",
        "\n"
      ]
    },
    {
      "cell_type": "code",
      "source": [
        "status= \"\"\n",
        "\n",
        "while(status !=\"stop\"):\n",
        "\n",
        "  op_type = input (\"please write 1 for arithmatic operations and 2 for else\")\n",
        "  if op_type == \"1\":\n",
        "    op = input (\"welcome to yahya calc please insert operation\\n add sub mult div \")\n",
        "    x= float (input (\"please insert first num\"))\n",
        "    y= float (input(\"please insert second num\"))\n",
        "    if op == \"add\":\n",
        "      add (x,y)\n",
        "    elif op == \"sub\":\n",
        "      sub (x,y)\n",
        "    if op == \"mult\":\n",
        "      mult (x,y)\n",
        "    if op == \"div\":\n",
        "      div (x,y)\n",
        "\n",
        "  elif op_type ==\"2\":\n",
        "    x= float (input (\"please insert  num\"))\n",
        "    op = input (\"welcome to yahya calc please insert operation\\n fac fib e/o \")\n",
        "    if op == \"fac\":\n",
        "      print(fac(x))\n",
        "    elif op== \"fib\":\n",
        "      fib(x)\n",
        "    elif op== \"e/o\":\n",
        "      even_odd(x)\n",
        "    else:\n",
        "      print(\"please insert valid operation\")\n",
        "\n",
        "\n",
        "\n",
        "  else:\n",
        "    print (\"please insert 1 or 2\")\n",
        "\n",
        "  status = input (\"if you want to stop write stop else write anything\")\n",
        "\n",
        "\n",
        "\n",
        "\n",
        "\n"
      ],
      "metadata": {
        "colab": {
          "base_uri": "https://localhost:8080/",
          "height": 459
        },
        "id": "Huihfp8MNRi2",
        "outputId": "77543087-8ddd-4daa-bcf6-141662df028b"
      },
      "execution_count": 6,
      "outputs": [
        {
          "name": "stdout",
          "output_type": "stream",
          "text": [
            "please write 1 for arithmatic operations and 2 for else2\n",
            "please insert  num5\n",
            "welcome to yahya calc please insert operation\n",
            " fac fib e/o fac\n"
          ]
        },
        {
          "output_type": "error",
          "ename": "TypeError",
          "evalue": "ignored",
          "traceback": [
            "\u001b[0;31m---------------------------------------------------------------------------\u001b[0m",
            "\u001b[0;31mTypeError\u001b[0m                                 Traceback (most recent call last)",
            "\u001b[0;32m<ipython-input-6-1cd68dcc8158>\u001b[0m in \u001b[0;36m<cell line: 3>\u001b[0;34m()\u001b[0m\n\u001b[1;32m     21\u001b[0m     \u001b[0mop\u001b[0m \u001b[0;34m=\u001b[0m \u001b[0minput\u001b[0m \u001b[0;34m(\u001b[0m\u001b[0;34m\"welcome to yahya calc please insert operation\\n fac fib e/o \"\u001b[0m\u001b[0;34m)\u001b[0m\u001b[0;34m\u001b[0m\u001b[0;34m\u001b[0m\u001b[0m\n\u001b[1;32m     22\u001b[0m     \u001b[0;32mif\u001b[0m \u001b[0mop\u001b[0m \u001b[0;34m==\u001b[0m \u001b[0;34m\"fac\"\u001b[0m\u001b[0;34m:\u001b[0m\u001b[0;34m\u001b[0m\u001b[0;34m\u001b[0m\u001b[0m\n\u001b[0;32m---> 23\u001b[0;31m       \u001b[0mprint\u001b[0m\u001b[0;34m(\u001b[0m\u001b[0mfac\u001b[0m\u001b[0;34m(\u001b[0m\u001b[0mx\u001b[0m\u001b[0;34m)\u001b[0m\u001b[0;34m)\u001b[0m\u001b[0;34m\u001b[0m\u001b[0;34m\u001b[0m\u001b[0m\n\u001b[0m\u001b[1;32m     24\u001b[0m     \u001b[0;32melif\u001b[0m \u001b[0mop\u001b[0m\u001b[0;34m==\u001b[0m \u001b[0;34m\"fib\"\u001b[0m\u001b[0;34m:\u001b[0m\u001b[0;34m\u001b[0m\u001b[0;34m\u001b[0m\u001b[0m\n\u001b[1;32m     25\u001b[0m       \u001b[0mfib\u001b[0m\u001b[0;34m(\u001b[0m\u001b[0mx\u001b[0m\u001b[0;34m)\u001b[0m\u001b[0;34m\u001b[0m\u001b[0;34m\u001b[0m\u001b[0m\n",
            "\u001b[0;32m<ipython-input-5-fc7e526a55e5>\u001b[0m in \u001b[0;36mfac\u001b[0;34m(x)\u001b[0m\n\u001b[1;32m     14\u001b[0m       \u001b[0;32mreturn\u001b[0m\u001b[0;34m(\u001b[0m\u001b[0;36m1\u001b[0m\u001b[0;34m)\u001b[0m\u001b[0;34m\u001b[0m\u001b[0;34m\u001b[0m\u001b[0m\n\u001b[1;32m     15\u001b[0m     \u001b[0;32melse\u001b[0m\u001b[0;34m:\u001b[0m\u001b[0;34m\u001b[0m\u001b[0;34m\u001b[0m\u001b[0m\n\u001b[0;32m---> 16\u001b[0;31m      \u001b[0;32mreturn\u001b[0m\u001b[0;34m(\u001b[0m \u001b[0mx\u001b[0m\u001b[0;34m*\u001b[0m\u001b[0mfac\u001b[0m\u001b[0;34m(\u001b[0m\u001b[0mx\u001b[0m\u001b[0;34m-\u001b[0m\u001b[0;36m1\u001b[0m\u001b[0;34m)\u001b[0m\u001b[0;34m,\u001b[0m\u001b[0;34m\"\\n\"\u001b[0m\u001b[0;34m)\u001b[0m\u001b[0;34m\u001b[0m\u001b[0;34m\u001b[0m\u001b[0m\n\u001b[0m\u001b[1;32m     17\u001b[0m \u001b[0;34m\u001b[0m\u001b[0m\n\u001b[1;32m     18\u001b[0m \u001b[0;34m\u001b[0m\u001b[0m\n",
            "\u001b[0;32m<ipython-input-5-fc7e526a55e5>\u001b[0m in \u001b[0;36mfac\u001b[0;34m(x)\u001b[0m\n\u001b[1;32m     14\u001b[0m       \u001b[0;32mreturn\u001b[0m\u001b[0;34m(\u001b[0m\u001b[0;36m1\u001b[0m\u001b[0;34m)\u001b[0m\u001b[0;34m\u001b[0m\u001b[0;34m\u001b[0m\u001b[0m\n\u001b[1;32m     15\u001b[0m     \u001b[0;32melse\u001b[0m\u001b[0;34m:\u001b[0m\u001b[0;34m\u001b[0m\u001b[0;34m\u001b[0m\u001b[0m\n\u001b[0;32m---> 16\u001b[0;31m      \u001b[0;32mreturn\u001b[0m\u001b[0;34m(\u001b[0m \u001b[0mx\u001b[0m\u001b[0;34m*\u001b[0m\u001b[0mfac\u001b[0m\u001b[0;34m(\u001b[0m\u001b[0mx\u001b[0m\u001b[0;34m-\u001b[0m\u001b[0;36m1\u001b[0m\u001b[0;34m)\u001b[0m\u001b[0;34m,\u001b[0m\u001b[0;34m\"\\n\"\u001b[0m\u001b[0;34m)\u001b[0m\u001b[0;34m\u001b[0m\u001b[0;34m\u001b[0m\u001b[0m\n\u001b[0m\u001b[1;32m     17\u001b[0m \u001b[0;34m\u001b[0m\u001b[0m\n\u001b[1;32m     18\u001b[0m \u001b[0;34m\u001b[0m\u001b[0m\n",
            "\u001b[0;32m<ipython-input-5-fc7e526a55e5>\u001b[0m in \u001b[0;36mfac\u001b[0;34m(x)\u001b[0m\n\u001b[1;32m     14\u001b[0m       \u001b[0;32mreturn\u001b[0m\u001b[0;34m(\u001b[0m\u001b[0;36m1\u001b[0m\u001b[0;34m)\u001b[0m\u001b[0;34m\u001b[0m\u001b[0;34m\u001b[0m\u001b[0m\n\u001b[1;32m     15\u001b[0m     \u001b[0;32melse\u001b[0m\u001b[0;34m:\u001b[0m\u001b[0;34m\u001b[0m\u001b[0;34m\u001b[0m\u001b[0m\n\u001b[0;32m---> 16\u001b[0;31m      \u001b[0;32mreturn\u001b[0m\u001b[0;34m(\u001b[0m \u001b[0mx\u001b[0m\u001b[0;34m*\u001b[0m\u001b[0mfac\u001b[0m\u001b[0;34m(\u001b[0m\u001b[0mx\u001b[0m\u001b[0;34m-\u001b[0m\u001b[0;36m1\u001b[0m\u001b[0;34m)\u001b[0m\u001b[0;34m,\u001b[0m\u001b[0;34m\"\\n\"\u001b[0m\u001b[0;34m)\u001b[0m\u001b[0;34m\u001b[0m\u001b[0;34m\u001b[0m\u001b[0m\n\u001b[0m\u001b[1;32m     17\u001b[0m \u001b[0;34m\u001b[0m\u001b[0m\n\u001b[1;32m     18\u001b[0m \u001b[0;34m\u001b[0m\u001b[0m\n",
            "\u001b[0;31mTypeError\u001b[0m: can't multiply sequence by non-int of type 'float'"
          ]
        }
      ]
    }
  ]
}