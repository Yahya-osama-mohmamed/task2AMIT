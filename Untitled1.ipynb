{
  "nbformat": 4,
  "nbformat_minor": 0,
  "metadata": {
    "colab": {
      "provenance": [],
      "include_colab_link": true
    },
    "kernelspec": {
      "name": "python3",
      "display_name": "Python 3"
    },
    "language_info": {
      "name": "python"
    }
  },
  "cells": [
    {
      "cell_type": "markdown",
      "metadata": {
        "id": "view-in-github",
        "colab_type": "text"
      },
      "source": [
        "<a href=\"https://colab.research.google.com/github/Yahya-osama-mohmamed/task2AMIT/blob/task-calc/Untitled1.ipynb\" target=\"_parent\"><img src=\"https://colab.research.google.com/assets/colab-badge.svg\" alt=\"Open In Colab\"/></a>"
      ]
    },
    {
      "cell_type": "code",
      "execution_count": 5,
      "metadata": {
        "id": "vQUvECmYmsgc"
      },
      "outputs": [],
      "source": [
        "def add (x,y):\n",
        "  print (x+y)\n",
        "def sub (x,y):\n",
        "  print (x-y)\n",
        "def mult (x,y):\n",
        "  print( x*y)\n",
        "def div (x,y):\n",
        "  print (x/y)\n",
        "\n",
        "\n",
        "def fac (x):\n",
        "\n",
        "    if x== 0 or x== 1 :\n",
        "      return(1)\n",
        "    else:\n",
        "     return( x*fac(x-1))\n",
        "\n",
        "\n",
        "def fib (n_terms):\n",
        "  n1,n2 = 0,1\n",
        "  if n_terms <= 0 :\n",
        "    print (\"please insert a positive integer\")\n",
        "  elif n_terms == 1 :\n",
        "    print (n1)\n",
        "\n",
        "  else:\n",
        "    i=0\n",
        "    while (i<n_terms):\n",
        "      print (n1)\n",
        "      nth = n1+n2\n",
        "      n1=n2\n",
        "      n2=nth\n",
        "\n",
        "      i+=1\n",
        "\n",
        "\n",
        "def even_odd (x):\n",
        "  if x%2 == 0:\n",
        "    print (\"even\")\n",
        "  else:\n",
        "    print (\"odd\")\n",
        "\n",
        "\n",
        "\n",
        "\n",
        "\n",
        "\n"
      ]
    },
    {
      "cell_type": "code",
      "source": [
        "status= \"\"\n",
        "\n",
        "while(status !=\"stop\"):\n",
        "\n",
        "  op_type = input (\"please write 1 for arithmatic operations and 2 for else\")\n",
        "  if op_type == \"1\":\n",
        "    op = input (\"welcome to yahya calc please insert operation\\n add sub mult div \")\n",
        "    x= float (input (\"please insert first num\"))\n",
        "    y= float (input(\"please insert second num\"))\n",
        "    if op == \"add\":\n",
        "      add (x,y)\n",
        "    elif op == \"sub\":\n",
        "      sub (x,y)\n",
        "    if op == \"mult\":\n",
        "      mult (x,y)\n",
        "    if op == \"div\":\n",
        "      div (x,y)\n",
        "\n",
        "  elif op_type ==\"2\":\n",
        "    x= float (input (\"please insert  num\"))\n",
        "    op = input (\"welcome to yahya calc please insert operation\\n fac fib e/o \")\n",
        "    if op == \"fac\":\n",
        "      print(fac(x))\n",
        "    elif op== \"fib\":\n",
        "      fib(x)\n",
        "    elif op== \"e/o\":\n",
        "      even_odd(x)\n",
        "    else:\n",
        "      print(\"please insert valid operation\")\n",
        "\n",
        "\n",
        "\n",
        "  else:\n",
        "    print (\"please insert 1 or 2\")\n",
        "\n",
        "  status = input (\"if you want to stop write stop else write anything\")\n",
        "\n",
        "\n",
        "\n",
        "\n",
        "\n"
      ],
      "metadata": {
        "colab": {
          "base_uri": "https://localhost:8080/"
        },
        "id": "Huihfp8MNRi2",
        "outputId": "5a630aeb-2bc5-4662-acae-8eb9ae91fbaa"
      },
      "execution_count": 6,
      "outputs": [
        {
          "name": "stdout",
          "output_type": "stream",
          "text": [
            "please write 1 for arithmatic operations and 2 for else2\n",
            "please insert  num7\n",
            "welcome to yahya calc please insert operation\n",
            " fac fib e/o fib\n",
            "0\n",
            "1\n",
            "1\n",
            "2\n",
            "3\n",
            "5\n",
            "8\n",
            "if you want to stop write stop else write anythingstop\n"
          ]
        }
      ]
    },
    {
      "cell_type": "markdown",
      "source": [
        "rectangle calculator\n",
        "\n",
        "calculate perimeter\n",
        "\n",
        "calculate area\n",
        "\n",
        "rectangle_information : print(length,width,area,rectangle)\n"
      ],
      "metadata": {
        "id": "Cc0HwJPzGWI1"
      }
    },
    {
      "cell_type": "code",
      "source": [
        "side_string= input(\"please enter the length and width separated by comma\")\n",
        "sides=side_string.split(\",\")\n",
        "print(f\"the width and length are {sides}the area is equal to {float(sides[0])*float(sides[1])} and the perimeter is equal to {2*(float(sides[0])+float(sides[1]))}\")"
      ],
      "metadata": {
        "colab": {
          "base_uri": "https://localhost:8080/"
        },
        "id": "is9UtW3KGfU6",
        "outputId": "41aded7b-9b34-4e59-8922-d814dade5d92"
      },
      "execution_count": 7,
      "outputs": [
        {
          "output_type": "stream",
          "name": "stdout",
          "text": [
            "please enter the length and width separated by comma5,7\n",
            "the width and length are ['5', '7']the area is equal to 35.0 and the perimeter is equal to 24.0\n"
          ]
        }
      ]
    },
    {
      "cell_type": "markdown",
      "source": [
        "count number of vowels from input string"
      ],
      "metadata": {
        "id": "ybMdZFrUHGUp"
      }
    },
    {
      "cell_type": "code",
      "source": [
        "string=input(\"please input your string\")\n",
        "count=0\n",
        "for i in string:\n",
        "  if i == 'a' or i == 'o' or i == 'e' or i == 'i'or i == 'u' :\n",
        "\n",
        "    count+=1\n",
        "    print(i)\n",
        "print(count)"
      ],
      "metadata": {
        "colab": {
          "base_uri": "https://localhost:8080/"
        },
        "id": "MaL9S6ufHKBg",
        "outputId": "9d15e575-6e99-4b2a-9ada-008bbd2b4a7b"
      },
      "execution_count": 9,
      "outputs": [
        {
          "output_type": "stream",
          "name": "stdout",
          "text": [
            "please input your stringaoieuyw\n",
            "a\n",
            "o\n",
            "i\n",
            "e\n",
            "u\n",
            "5\n"
          ]
        }
      ]
    },
    {
      "cell_type": "markdown",
      "source": [
        "print maximum and minimum number from user input"
      ],
      "metadata": {
        "id": "-X3HF7RIII7g"
      }
    },
    {
      "cell_type": "code",
      "source": [
        "num_string= input(\"please enter the numbers separated by comma\")\n",
        "nums=num_string.split(\",\")\n",
        "max,min=0,0\n",
        "for i in nums:\n",
        "  try:\n",
        "    if float(i)>max:\n",
        "      max=float(i)\n",
        "    if float(i)<min:\n",
        "      min=float(i)\n",
        "  except:\n",
        "    continue\n",
        "\n",
        "print(f\"max is {max} min is{min}\")\n",
        "\n"
      ],
      "metadata": {
        "colab": {
          "base_uri": "https://localhost:8080/"
        },
        "id": "WbQIf16vIKE3",
        "outputId": "880ae1e7-cdb7-4d49-a0f3-00bab8aefd59"
      },
      "execution_count": 10,
      "outputs": [
        {
          "output_type": "stream",
          "name": "stdout",
          "text": [
            "please enter the numbers separated by comma-1,-2,3,5,6,0\n",
            "max is 6.0 min is-2.0\n"
          ]
        }
      ]
    }
  ]
}