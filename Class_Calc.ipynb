{
  "nbformat": 4,
  "nbformat_minor": 0,
  "metadata": {
    "colab": {
      "provenance": [],
      "authorship_tag": "ABX9TyPy572eFxDAbprmeZaVap8w",
      "include_colab_link": true
    },
    "kernelspec": {
      "name": "python3",
      "display_name": "Python 3"
    },
    "language_info": {
      "name": "python"
    }
  },
  "cells": [
    {
      "cell_type": "markdown",
      "metadata": {
        "id": "view-in-github",
        "colab_type": "text"
      },
      "source": [
        "<a href=\"https://colab.research.google.com/github/Yahya-osama-mohmamed/task2AMIT/blob/main/Class_Calc.ipynb\" target=\"_parent\"><img src=\"https://colab.research.google.com/assets/colab-badge.svg\" alt=\"Open In Colab\"/></a>"
      ]
    },
    {
      "cell_type": "code",
      "execution_count": 7,
      "metadata": {
        "colab": {
          "base_uri": "https://localhost:8080/"
        },
        "id": "XdrbW3W1DKZv",
        "outputId": "c8dd49e1-de2e-453a-9052-441603b82de5"
      },
      "outputs": [
        {
          "output_type": "stream",
          "name": "stdout",
          "text": [
            "please enter your name: yahya\n",
            "welcome yahya to amit calculator\n",
            "\n",
            "\n",
            "\n",
            "\n",
            "operations: \n",
            "1.addition\n",
            "2.subtraction\n",
            "3.multiplication\n",
            "4.division\n",
            "5.even or odd\n",
            "6. factorial\n",
            "7.fibonacci\n",
            "8.exit\n",
            "\n",
            "\n",
            "enter your choice: 7\n",
            "enter your number: 7\n",
            "fibonacci 7.0 = 13\n",
            "\n",
            "\n",
            "operations: \n",
            "1.addition\n",
            "2.subtraction\n",
            "3.multiplication\n",
            "4.division\n",
            "5.even or odd\n",
            "6. factorial\n",
            "7.fibonacci\n",
            "8.exit\n",
            "\n",
            "\n",
            "enter your choice: 8\n",
            "thank you,see you soon\n"
          ]
        }
      ],
      "source": [
        "# backend\n",
        "class calc():\n",
        "  def summation(self,*numbers):\n",
        "  #  return sum(numbers)\n",
        "    self.result = numbers[0]\n",
        "    for num in numbers[1:]:\n",
        "      self.result+=num\n",
        "    return self.result\n",
        "  def subtraction(self,*numbers):\n",
        "    self.result = numbers[0]\n",
        "    for num in numbers[1:]:\n",
        "      self.result-=num\n",
        "    return self.result\n",
        "  def multiplication(self,*numbers):\n",
        "    self.result = numbers[0]\n",
        "    for num in numbers[1:]:\n",
        "      self.result*=num\n",
        "    return self.result\n",
        "  def division(self,*numbers):\n",
        "    self.result = numbers[0]\n",
        "    for num in numbers[1:]:\n",
        "      if num == 0:\n",
        "        return \"cannot divide by zero\"\n",
        "      else:\n",
        "        self.result/=num\n",
        "    return self.result\n",
        "\n",
        "  def even_odd(self,num1):\n",
        "    if num1%2==0:\n",
        "      print(f\"{num1} is even\")\n",
        "    else:\n",
        "      print(f\"{num1} is odd\")\n",
        "\n",
        "  def factorial(self,num1):\n",
        "    if num1 == 0 or num1 == 1:\n",
        "      return 1\n",
        "    else:\n",
        "      return num1*self.factorial(num1-1)\n",
        "\n",
        "  def fibonacci(self,num1):\n",
        "    if num1 == 0:\n",
        "      return 0\n",
        "    elif num1 == 1:\n",
        "      return 1\n",
        "    else:\n",
        "      return self.fibonacci(num1-1)+self.fibonacci(num1-2)\n",
        "\n",
        "\n",
        "# user interface\n",
        "\n",
        "name = input(\"please enter your name: \")\n",
        "print(f\"welcome {name} to yahya calculator\\n\\n\")\n",
        "calc_obj=calc()\n",
        "while True:\n",
        "\n",
        "  print(\"\\n\\noperations: \\n1.addition\\n2.subtraction\\n3.multiplication\\n4.division\\n5.even or odd\\n6. factorial\\n7.fibonacci\\n8.exit\\n\\n\")\n",
        "\n",
        "  choice = input(\"enter your choice: \")\n",
        "\n",
        "  if choice in (\"1\",\"2\",\"3\",\"4\"):\n",
        "    number =[int(num) for num in input(\"enter your number separated by comma: \").split(\",\")]\n",
        "    if choice == \"1\":\n",
        "      print(f\"result: \",calc_obj.summation(*number))\n",
        "    elif choice == \"2\":\n",
        "       print(f\"result: \",calc_obj.subtraction(*number))\n",
        "    elif choice == \"3\":\n",
        "       print(f\"result: \",calc_obj.multiplication(*number))\n",
        "    elif choice == \"4\":\n",
        "       print(f\"result: \",calc_obj.division(*number))\n",
        "  elif choice in (\"5\",\"6\",\"7\"):\n",
        "      first_number = float(input(\"enter your number: \"))\n",
        "      if choice == \"5\":\n",
        "        calc_obj.even_odd(first_number)\n",
        "      elif choice == \"6\":\n",
        "        print(f\"factorial {first_number} = {calc_obj.factorial(first_number)}\")\n",
        "      elif choice == \"7\":\n",
        "        print(f\"fibonacci {first_number} = {calc_obj.fibonacci(first_number)}\")\n",
        "  elif choice == \"8\":\n",
        "    print(\"thank you,see you soon\")\n",
        "    break\n",
        "\n",
        "  else:\n",
        "    print(\"invalid input,please try again\")"
      ]
    }
  ]
}