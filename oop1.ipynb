{
  "nbformat": 4,
  "nbformat_minor": 0,
  "metadata": {
    "colab": {
      "provenance": [],
      "authorship_tag": "ABX9TyMtCp7W2Tnl6qKWMYClsSXq",
      "include_colab_link": true
    },
    "kernelspec": {
      "name": "python3",
      "display_name": "Python 3"
    },
    "language_info": {
      "name": "python"
    }
  },
  "cells": [
    {
      "cell_type": "markdown",
      "metadata": {
        "id": "view-in-github",
        "colab_type": "text"
      },
      "source": [
        "<a href=\"https://colab.research.google.com/github/Yahya-osama-mohmamed/task2AMIT/blob/main/oop1.ipynb\" target=\"_parent\"><img src=\"https://colab.research.google.com/assets/colab-badge.svg\" alt=\"Open In Colab\"/></a>"
      ]
    },
    {
      "cell_type": "code",
      "execution_count": null,
      "metadata": {
        "colab": {
          "base_uri": "https://localhost:8080/"
        },
        "id": "LDPGlEGrrInb",
        "outputId": "739b205c-c3af-4cd5-8f4d-12e7127f5fc5"
      },
      "outputs": [
        {
          "output_type": "stream",
          "name": "stdout",
          "text": [
            "w3leekom el hi\n"
          ]
        }
      ],
      "source": [
        "class student():\n",
        "  name=\"mawlana\"\n",
        "  age= 24\n",
        "  grade= 3.7\n",
        "  university=\"CUFE\"\n",
        "  def say_hi (self):\n",
        "    print(\"w3leekom el hi\")\n",
        "\n",
        "\n",
        "x=student()\n",
        "x.say_hi()"
      ]
    },
    {
      "cell_type": "code",
      "source": [
        "class ay_7aga():\n",
        "  def etb3ly_nfsy (self):\n",
        "    print(self)\n",
        "x=ay_7aga()\n",
        "print(x)\n",
        "x.etb3ly_nfsy() #el object address bytb3t lel function w el function bttb3o 3lshan tnfz 3la el object ele gwa el address\n",
        "\n"
      ],
      "metadata": {
        "colab": {
          "base_uri": "https://localhost:8080/"
        },
        "id": "jAAD1VHr6fYb",
        "outputId": "fe2a5892-5105-4f18-b0b3-c9677807d3dc"
      },
      "execution_count": null,
      "outputs": [
        {
          "output_type": "stream",
          "name": "stdout",
          "text": [
            "<__main__.ay_7aga object at 0x7e031cc20ca0>\n",
            "<__main__.ay_7aga object at 0x7e031cc20ca0>\n"
          ]
        }
      ]
    },
    {
      "cell_type": "markdown",
      "source": [
        "constructor method\n"
      ],
      "metadata": {
        "id": "wo4375bV7dWg"
      }
    },
    {
      "cell_type": "code",
      "source": [
        "class student():\n",
        "  def __init__(self,name): # de function el intialization b t run automatic lma a create new class w el args bt3t.ha bttb3t w ana b create el object w esmha (__init__)\n",
        "    print(f\"welcome to my student class ya {name}\")\n",
        "  def info(self):\n",
        "    print(self)\n",
        "name=input(\"enter your name: \")\n",
        "x=student(name)\n"
      ],
      "metadata": {
        "colab": {
          "base_uri": "https://localhost:8080/"
        },
        "id": "1xV5gNiG7ji-",
        "outputId": "1983f6b5-c8b6-448a-d26b-7920218cfb1c"
      },
      "execution_count": null,
      "outputs": [
        {
          "output_type": "stream",
          "name": "stdout",
          "text": [
            "enter your name: maw\n",
            "welcome to my student class ya maw\n"
          ]
        }
      ]
    },
    {
      "cell_type": "code",
      "source": [],
      "metadata": {
        "id": "6RU4UXqqQ-Hy"
      },
      "execution_count": null,
      "outputs": []
    },
    {
      "cell_type": "code",
      "source": [
        "class student ():\n",
        "  def __init__(self,name,grades):\n",
        "    self.mygrades=grades\n",
        "    self.name=name\n",
        "    print(f\"your name is: {self.name} \")\n",
        "  def add_marks(self,mark):\n",
        "    self.mygrades.append(mark)\n",
        "    print(\"added successfully\\n\\n\")\n",
        "    print(\"your marks are: \",self.mygrades)\n",
        "  def sum_marks(self):\n",
        "    print(f\"your grades sum is {sum(self.mygrades)}\")\n",
        "  def avg_marks(self):\n",
        "    print(f\" your avg is {sum(self.mygrades)/len(self.mygrades)}\")\n",
        "\n",
        "\n",
        "name= input(\"please enter your name: \")\n",
        "grades=input(\"please enter your grades separated by comma: \")\n",
        "grades_list=grades.split(\",\")\n",
        "grades_float=[]\n",
        "for item in grades_list:\n",
        "  try:\n",
        "    grades_float.append(float(item))\n",
        "  except:\n",
        "    continue\n",
        "while(1):\n",
        "\n",
        "\n",
        "\n",
        "  your_choice= input(\"please enter 1 for sum and 2 for avg and 3 for  addiing grades and 4 for exit: \")\n",
        "  my_object=student(name,grades_float)\n",
        "\n",
        "  if your_choice == '1':\n",
        "    my_object.sum_marks()\n",
        "  elif your_choice == '2':\n",
        "    my_object.avg_marks()\n",
        "  elif your_choice == '3':\n",
        "    try:\n",
        "      mark=input(\"please enter your mark\")\n",
        "      my_object.add_marks(float(mark))\n",
        "    except:\n",
        "      print(\"please enter a valid mark\")\n",
        "\n",
        "  elif your_choice == '4':\n",
        "    break\n",
        "\n",
        "\n",
        "\n"
      ],
      "metadata": {
        "colab": {
          "base_uri": "https://localhost:8080/",
          "height": 546
        },
        "id": "zcTeG0iNMGrW",
        "outputId": "aa8c9b79-f56b-4137-9e97-c852c654b8bf"
      },
      "execution_count": 23,
      "outputs": [
        {
          "output_type": "stream",
          "name": "stdout",
          "text": [
            "please enter your nameyahya\n",
            "please enter your grades separated by comma 2,3,4\n",
            "please enter 1 for sum and 2 for avg and 3 for  addiing grades and 4 for exit: 3\n",
            "your name is: yahya \n",
            "please enter your mark5\n",
            "added successfully\n",
            "\n",
            "\n",
            "your marks are:  [2.0, 3.0, 4.0, 5.0]\n"
          ]
        },
        {
          "output_type": "error",
          "ename": "KeyboardInterrupt",
          "evalue": "ignored",
          "traceback": [
            "\u001b[0;31m---------------------------------------------------------------------------\u001b[0m",
            "\u001b[0;31mKeyboardInterrupt\u001b[0m                         Traceback (most recent call last)",
            "\u001b[0;32m<ipython-input-23-45c02f14e9e7>\u001b[0m in \u001b[0;36m<cell line: 25>\u001b[0;34m()\u001b[0m\n\u001b[1;32m     27\u001b[0m \u001b[0;34m\u001b[0m\u001b[0m\n\u001b[1;32m     28\u001b[0m \u001b[0;34m\u001b[0m\u001b[0m\n\u001b[0;32m---> 29\u001b[0;31m   \u001b[0myour_choice\u001b[0m\u001b[0;34m=\u001b[0m \u001b[0minput\u001b[0m\u001b[0;34m(\u001b[0m\u001b[0;34m\"please enter 1 for sum and 2 for avg and 3 for  addiing grades and 4 for exit: \"\u001b[0m\u001b[0;34m)\u001b[0m\u001b[0;34m\u001b[0m\u001b[0;34m\u001b[0m\u001b[0m\n\u001b[0m\u001b[1;32m     30\u001b[0m   \u001b[0mmy_object\u001b[0m\u001b[0;34m=\u001b[0m\u001b[0mstudent\u001b[0m\u001b[0;34m(\u001b[0m\u001b[0mname\u001b[0m\u001b[0;34m,\u001b[0m\u001b[0mgrades_float\u001b[0m\u001b[0;34m)\u001b[0m\u001b[0;34m\u001b[0m\u001b[0;34m\u001b[0m\u001b[0m\n\u001b[1;32m     31\u001b[0m \u001b[0;34m\u001b[0m\u001b[0m\n",
            "\u001b[0;32m/usr/local/lib/python3.10/dist-packages/ipykernel/kernelbase.py\u001b[0m in \u001b[0;36mraw_input\u001b[0;34m(self, prompt)\u001b[0m\n\u001b[1;32m    849\u001b[0m                 \u001b[0;34m\"raw_input was called, but this frontend does not support input requests.\"\u001b[0m\u001b[0;34m\u001b[0m\u001b[0;34m\u001b[0m\u001b[0m\n\u001b[1;32m    850\u001b[0m             )\n\u001b[0;32m--> 851\u001b[0;31m         return self._input_request(str(prompt),\n\u001b[0m\u001b[1;32m    852\u001b[0m             \u001b[0mself\u001b[0m\u001b[0;34m.\u001b[0m\u001b[0m_parent_ident\u001b[0m\u001b[0;34m,\u001b[0m\u001b[0;34m\u001b[0m\u001b[0;34m\u001b[0m\u001b[0m\n\u001b[1;32m    853\u001b[0m             \u001b[0mself\u001b[0m\u001b[0;34m.\u001b[0m\u001b[0m_parent_header\u001b[0m\u001b[0;34m,\u001b[0m\u001b[0;34m\u001b[0m\u001b[0;34m\u001b[0m\u001b[0m\n",
            "\u001b[0;32m/usr/local/lib/python3.10/dist-packages/ipykernel/kernelbase.py\u001b[0m in \u001b[0;36m_input_request\u001b[0;34m(self, prompt, ident, parent, password)\u001b[0m\n\u001b[1;32m    893\u001b[0m             \u001b[0;32mexcept\u001b[0m \u001b[0mKeyboardInterrupt\u001b[0m\u001b[0;34m:\u001b[0m\u001b[0;34m\u001b[0m\u001b[0;34m\u001b[0m\u001b[0m\n\u001b[1;32m    894\u001b[0m                 \u001b[0;31m# re-raise KeyboardInterrupt, to truncate traceback\u001b[0m\u001b[0;34m\u001b[0m\u001b[0;34m\u001b[0m\u001b[0m\n\u001b[0;32m--> 895\u001b[0;31m                 \u001b[0;32mraise\u001b[0m \u001b[0mKeyboardInterrupt\u001b[0m\u001b[0;34m(\u001b[0m\u001b[0;34m\"Interrupted by user\"\u001b[0m\u001b[0;34m)\u001b[0m \u001b[0;32mfrom\u001b[0m \u001b[0;32mNone\u001b[0m\u001b[0;34m\u001b[0m\u001b[0;34m\u001b[0m\u001b[0m\n\u001b[0m\u001b[1;32m    896\u001b[0m             \u001b[0;32mexcept\u001b[0m \u001b[0mException\u001b[0m \u001b[0;32mas\u001b[0m \u001b[0me\u001b[0m\u001b[0;34m:\u001b[0m\u001b[0;34m\u001b[0m\u001b[0;34m\u001b[0m\u001b[0m\n\u001b[1;32m    897\u001b[0m                 \u001b[0mself\u001b[0m\u001b[0;34m.\u001b[0m\u001b[0mlog\u001b[0m\u001b[0;34m.\u001b[0m\u001b[0mwarning\u001b[0m\u001b[0;34m(\u001b[0m\u001b[0;34m\"Invalid Message:\"\u001b[0m\u001b[0;34m,\u001b[0m \u001b[0mexc_info\u001b[0m\u001b[0;34m=\u001b[0m\u001b[0;32mTrue\u001b[0m\u001b[0;34m)\u001b[0m\u001b[0;34m\u001b[0m\u001b[0;34m\u001b[0m\u001b[0m\n",
            "\u001b[0;31mKeyboardInterrupt\u001b[0m: Interrupted by user"
          ]
        }
      ]
    }
  ]
}