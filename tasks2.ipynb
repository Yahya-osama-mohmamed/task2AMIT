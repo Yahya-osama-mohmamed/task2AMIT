{
  "nbformat": 4,
  "nbformat_minor": 0,
  "metadata": {
    "colab": {
      "provenance": [],
      "authorship_tag": "ABX9TyMYM9XToee1eOW4DoeBFu9y",
      "include_colab_link": true
    },
    "kernelspec": {
      "name": "python3",
      "display_name": "Python 3"
    },
    "language_info": {
      "name": "python"
    }
  },
  "cells": [
    {
      "cell_type": "markdown",
      "metadata": {
        "id": "view-in-github",
        "colab_type": "text"
      },
      "source": [
        "<a href=\"https://colab.research.google.com/github/Yahya-osama-mohmamed/task2AMIT/blob/main/tasks2.ipynb\" target=\"_parent\"><img src=\"https://colab.research.google.com/assets/colab-badge.svg\" alt=\"Open In Colab\"/></a>"
      ]
    },
    {
      "cell_type": "code",
      "execution_count": 5,
      "metadata": {
        "id": "9wZ0Ht_nF7Q4",
        "colab": {
          "base_uri": "https://localhost:8080/"
        },
        "outputId": "92aef673-7226-4653-f0f1-84c3dc199129"
      },
      "outputs": [
        {
          "output_type": "stream",
          "name": "stdout",
          "text": [
            "please enter your numbers with one space between2 4 5 6 7\n",
            "2  7\n"
          ]
        }
      ],
      "source": [
        "x=[int(z) for z in input(\"please enter your numbers with one space between\").split()]\n",
        "print(min(x),'',max(x))\n"
      ]
    },
    {
      "cell_type": "markdown",
      "source": [
        "comprehensive list that sum even numbers from input"
      ],
      "metadata": {
        "id": "M1EwtWeWaYOp"
      }
    },
    {
      "cell_type": "code",
      "source": [
        "x=[int(z) for z in input(\"please enter your numbers: \").split() if int(z)%2 == 0 ]\n",
        "print(sum(x))"
      ],
      "metadata": {
        "colab": {
          "base_uri": "https://localhost:8080/"
        },
        "id": "LWXZrJTgaeH5",
        "outputId": "bb2c3beb-a2cf-4ad1-f42c-6876782bba53"
      },
      "execution_count": 6,
      "outputs": [
        {
          "output_type": "stream",
          "name": "stdout",
          "text": [
            "please enter your numbers: 2 4 5 6\n",
            "12\n"
          ]
        }
      ]
    },
    {
      "cell_type": "code",
      "source": [
        "x=[int(z) for z in input(\"please enter your numbers with one space between\").split()]\n",
        "print(f\"the descending list {sorted(x,reverse=True)} and the ascending list {sorted(x)}\")"
      ],
      "metadata": {
        "colab": {
          "base_uri": "https://localhost:8080/"
        },
        "id": "KKBA7ACTa-xX",
        "outputId": "c12b651d-4ec6-4e01-cb49-9d8d9c7cf70b"
      },
      "execution_count": 9,
      "outputs": [
        {
          "output_type": "stream",
          "name": "stdout",
          "text": [
            "please enter your numbers with one space between2 3 4 5 565 343 776\n",
            "the descending list [776, 565, 343, 5, 4, 3, 2] and the ascending list [2, 3, 4, 5, 343, 565, 776]\n"
          ]
        }
      ]
    },
    {
      "cell_type": "code",
      "source": [
        "my_string=input(\"please enter your string : \")\n",
        "my_char= input('your character: ')\n",
        "count=0\n",
        "for i in my_string:\n",
        "   if i== my_char:\n",
        "    count+=1\n",
        "print(count)\n",
        "\n"
      ],
      "metadata": {
        "colab": {
          "base_uri": "https://localhost:8080/"
        },
        "id": "hpzERvkKc7qz",
        "outputId": "fd32d6d0-bd73-4685-ee6b-c13d55041dfb"
      },
      "execution_count": 12,
      "outputs": [
        {
          "output_type": "stream",
          "name": "stdout",
          "text": [
            "please enter your string : asjdas djsdds s\n",
            "your character: s\n",
            "5\n"
          ]
        }
      ]
    },
    {
      "cell_type": "code",
      "source": [
        "print(\"please guess a num from 1 to 10\")\n",
        "my_num=input(\"is your number 5 y/n ? \")\n",
        "if my_num == 'y':\n",
        "  print(\"haha I won\")\n",
        "elif my_num== 'n':\n",
        "  my_num=input(\"is your num greater than 5 \")\n",
        "  if my_num== 'y':\n",
        "    my_num=input(\"is your num 8 ?\")\n",
        "    if my_num== 'y':\n",
        "      print(\"haha i won\")\n",
        "    else:\n",
        "      my_num= input(\"is your num greater than 8 ?\")\n",
        "      if my_num== 'y':\n",
        "        my_num=input(\"is your num 9 ? \")\n",
        "        if my_num == 'y':\n",
        "          print(\"haha i won\")\n",
        "        else:\n",
        "          print(\"then your num must be 10\")\n",
        "      else:\n",
        "        my_num=input(\"is your num 6\")\n",
        "        if my_num == 'y':\n",
        "          print(\"haha i won\")\n",
        "        else:\n",
        "          print(\"haha your num is 7\")\n",
        "  else:\n",
        "    my_num=input(\"is your num 3\")\n",
        "    if my_num == 'y':\n",
        "      print(\"haha i won\")\n",
        "    else:\n",
        "      my_num=input(\"is your num 4 \")\n",
        "      if my_num == 'y':\n",
        "        print(\"haha i won\")\n",
        "      else:\n",
        "        my_num=input(\"is your num 2 \")\n",
        "        if my_num == 'y':\n",
        "          print(\"haha i won\")\n",
        "        else:\n",
        "          print(\"your num is 1\")\n",
        "\n"
      ],
      "metadata": {
        "colab": {
          "base_uri": "https://localhost:8080/"
        },
        "id": "cvCIUsBPe3xR",
        "outputId": "2f5cc48d-96ef-40af-c604-1485671c3e2c"
      },
      "execution_count": 17,
      "outputs": [
        {
          "output_type": "stream",
          "name": "stdout",
          "text": [
            "please guess a num from 1 to 10\n",
            "is your number 5 y/n ? n\n",
            "is your num greater than 5 y\n",
            "is your num 8 ?n\n",
            "is your num greater than 8 ?y\n",
            "is your num 9 ? y\n",
            "haha i won\n"
          ]
        }
      ]
    }
  ]
}